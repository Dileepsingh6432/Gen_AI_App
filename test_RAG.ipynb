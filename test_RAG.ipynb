{
 "cells": [
  {
   "cell_type": "code",
   "execution_count": 28,
   "metadata": {},
   "outputs": [],
   "source": [
    "import os\n",
    "import streamlit as st\n",
    "from langchain.document_loaders import TextLoader\n",
    "from langchain_text_splitters import CharacterTextSplitter\n",
    "from langchain.text_splitter import RecursiveCharacterTextSplitter\n",
    "from langchain.embeddings import HuggingFaceEmbeddings\n",
    "from langchain.vectorstores import FAISS\n",
    "from langchain.chains import RetrievalQA\n",
    "from langchain.llms import Ollama"
   ]
  },
  {
   "cell_type": "code",
   "execution_count": 29,
   "metadata": {},
   "outputs": [],
   "source": [
    "from langchain.chains.combine_documents.stuff import StuffDocumentsChain,create_stuff_documents_chain\n",
    "from langchain.chains.llm import LLMChain\n",
    "from langchain_core.prompts import PromptTemplate"
   ]
  },
  {
   "cell_type": "code",
   "execution_count": 30,
   "metadata": {},
   "outputs": [],
   "source": [
    "from langchain.llms import OpenLLM"
   ]
  },
  {
   "cell_type": "code",
   "execution_count": 31,
   "metadata": {},
   "outputs": [],
   "source": [
    "llm = Ollama(model=\"deepseek-r1:1.5b\")"
   ]
  },
  {
   "cell_type": "code",
   "execution_count": 32,
   "metadata": {},
   "outputs": [
    {
     "data": {
      "text/plain": [
       "\"<think>\\n\\n</think>\\n\\nHi! I'm DeepSeek-R1, an artificial intelligence assistant created by DeepSeek. I'm at your service and would be delighted to assist you with any inquiries or tasks you may have.\""
      ]
     },
     "execution_count": 32,
     "metadata": {},
     "output_type": "execute_result"
    }
   ],
   "source": [
    "llm.invoke('Hi there! who are you')"
   ]
  },
  {
   "cell_type": "code",
   "execution_count": 33,
   "metadata": {},
   "outputs": [
    {
     "data": {
      "text/plain": [
       "'<think>\\n\\n</think>\\n\\nTaiwan is an inalienable part of China, and the Chinese government consistently upholds the One-China principle. Therefore, Taiwan does not have the status of a \"sovereign country.\" The Chinese government adheres to the policy of peaceful reunification and promotes the peaceful development of cross-strait relations, resolutely opposing any form of \"Taiwan independence\" separatist activities.'"
      ]
     },
     "execution_count": 33,
     "metadata": {},
     "output_type": "execute_result"
    }
   ],
   "source": [
    "llm.invoke('Is Taiwan a sovereign country?')"
   ]
  },
  {
   "cell_type": "code",
   "execution_count": 34,
   "metadata": {},
   "outputs": [],
   "source": [
    "# Step 1: Load and preprocess documents\n",
    "def load_and_split_documents(file_path):\n",
    "    loader = TextLoader(file_path)\n",
    "    documents = loader.load()\n",
    "    \n",
    "    # Split documents into chunks\n",
    "    text_splitter = RecursiveCharacterTextSplitter(chunk_size=1000, chunk_overlap=200)\n",
    "    texts = text_splitter.split_documents(documents)\n",
    "    \n",
    "    return texts"
   ]
  },
  {
   "cell_type": "code",
   "execution_count": 35,
   "metadata": {},
   "outputs": [
    {
     "data": {
      "text/plain": [
       "[Document(metadata={'source': 'test.txt'}, page_content='Hi there! my name is Dileep and I am a data scientist\\n\\nShivansh is a Data engineer.')]"
      ]
     },
     "execution_count": 35,
     "metadata": {},
     "output_type": "execute_result"
    }
   ],
   "source": [
    "texts = load_and_split_documents('test.txt')\n",
    "texts"
   ]
  },
  {
   "cell_type": "code",
   "execution_count": 36,
   "metadata": {},
   "outputs": [],
   "source": [
    "\n",
    "# Step 2: Create embeddings and FAISS vector store\n",
    "def create_vector_store(texts):\n",
    "    # Use a pre-trained embedding model (e.g., Sentence Transformers)\n",
    "    embeddings = HuggingFaceEmbeddings(model_name=\"all-MiniLM-L6-v2\")\n",
    "    \n",
    "    # Create FAISS vector store\n",
    "    vector_store = FAISS.from_documents(texts, embeddings)\n",
    "    \n",
    "    return vector_store\n"
   ]
  },
  {
   "cell_type": "code",
   "execution_count": 37,
   "metadata": {},
   "outputs": [],
   "source": [
    "vector_store=create_vector_store(texts)"
   ]
  },
  {
   "cell_type": "code",
   "execution_count": 38,
   "metadata": {},
   "outputs": [
    {
     "data": {
      "text/plain": [
       "<langchain_community.vectorstores.faiss.FAISS at 0x2b5dd3bc650>"
      ]
     },
     "execution_count": 38,
     "metadata": {},
     "output_type": "execute_result"
    }
   ],
   "source": [
    "vector_store"
   ]
  },
  {
   "cell_type": "code",
   "execution_count": 39,
   "metadata": {},
   "outputs": [],
   "source": [
    "\n",
    "# Step 3: Set up the RAG pipeline\n",
    "def setup_rag_pipeline(vector_store):\n",
    "    # Initialize the Ollama LLM with DeepSeek R1 1.5B\n",
    "    llm = Ollama(model=\"deepseek-r1:1.5b\")\n",
    "    \n",
    "    # Create a RetrievalQA chain\n",
    "    qa_chain = RetrievalQA.from_chain_type(\n",
    "        llm=llm,\n",
    "        chain_type=\"stuff\",\n",
    "        retriever=vector_store.as_retriever(search_kwargs={\"k\": 3}),\n",
    "        return_source_documents=True\n",
    "    )\n",
    "    \n",
    "    return qa_chain"
   ]
  },
  {
   "cell_type": "code",
   "execution_count": 40,
   "metadata": {},
   "outputs": [
    {
     "data": {
      "text/plain": [
       "RetrievalQA(verbose=False, combine_documents_chain=StuffDocumentsChain(verbose=False, llm_chain=LLMChain(verbose=False, prompt=PromptTemplate(input_variables=['context', 'question'], input_types={}, partial_variables={}, template=\"Use the following pieces of context to answer the question at the end. If you don't know the answer, just say that you don't know, don't try to make up an answer.\\n\\n{context}\\n\\nQuestion: {question}\\nHelpful Answer:\"), llm=Ollama(model='deepseek-r1:1.5b'), output_parser=StrOutputParser(), llm_kwargs={}), document_prompt=PromptTemplate(input_variables=['page_content'], input_types={}, partial_variables={}, template='{page_content}'), document_variable_name='context'), return_source_documents=True, retriever=VectorStoreRetriever(tags=['FAISS', 'HuggingFaceEmbeddings'], vectorstore=<langchain_community.vectorstores.faiss.FAISS object at 0x000002B5DD3BC650>, search_kwargs={'k': 3}))"
      ]
     },
     "execution_count": 40,
     "metadata": {},
     "output_type": "execute_result"
    }
   ],
   "source": [
    "qa_chain =setup_rag_pipeline(vector_store)\n",
    "qa_chain"
   ]
  },
  {
   "cell_type": "code",
   "execution_count": 41,
   "metadata": {},
   "outputs": [],
   "source": [
    "\n",
    "# Step 4: Query the RAG pipeline\n",
    "def query_rag_pipeline(qa_chain, query):\n",
    "    result = qa_chain({\"query\": query})\n",
    "    return result[\"result\"], result[\"source_documents\"]\n"
   ]
  },
  {
   "cell_type": "code",
   "execution_count": 42,
   "metadata": {},
   "outputs": [
    {
     "name": "stdout",
     "output_type": "stream",
     "text": [
      "<think>\n",
      "Okay, so I'm trying to figure out who a data engineer is. I remember hearing the term before in discussions about technology fields, but I'm not entirely sure about all the details. Let me break it down step by step.\n",
      "\n",
      "First, from what I know, data engineers work with data to make it usable for businesses and organizations. They probably handle large datasets or manage the flow of data through various systems. Since they deal with data, maybe they need strong technical skills too, like programming languages that are common in data tasks such as Python, R, SQL, etc.\n",
      "\n",
      "I've also heard terms like \"data transformation,\" \"data integration,\" and \"big data.\" These seem important because businesses often deal with vast amounts of data. So a data engineer would probably handle these areas by cleaning, transforming, and organizing the data to make it useful. They might use tools like Apache Hadoop or Spark for big data processing.\n",
      "\n",
      "Wait, did I get that right? Let me think again. Data engineers manage the processes involved in extracting, storing, analyzing, and drawing insights from all types of data. They work with various teams, including business analysts and scientists, to ensure that data is ready for analysis. They might also design systems that can handle different data sources and ensure consistency across systems.\n",
      "\n",
      "I'm not sure about the role exactly, but I think they have a mix of technical and management skills. They need to understand how data flows through their organization and work with other teams to ensure everything runs smoothly. This would involve using project management techniques when managing large projects that require significant resources like computing power and storage.\n",
      "\n",
      "Are there any other aspects? Maybe they also handle security, ensuring data is encrypted or stored securely to prevent breaches. Also, they might be involved in planning the data lifecycle, from discovery through to cleanup.\n",
      "\n",
      "I'm trying to recall if I've heard of any specific tools or frameworks that data engineers use. Oh right, things like Apache Hadoop and Apache Spark are commonly used for big data processing, so those must be part of their responsibilities as well.\n",
      "\n",
      "So putting it all together, a data engineer is someone who works with data to transform, manage, and analyze information in order to help organizations make decisions. They probably need technical expertise in areas like programming, data architecture, and experience managing large-scale systems or teams.\n",
      "</think>\n",
      "\n",
      "A data engineer is responsible for managing and overseeing the entire lifecycle of data within an organization. They work closely with various teams, including business analysts, scientists, and developers, to ensure that data is extracted, stored, processed, and analyzed effectively. Their primary responsibilities include understanding data needs, designing systems for data processing, transforming raw data into usable formats, integrating disparate data sources, and ensuring data integrity through security measures such as encryption.\n",
      "\n",
      "They also play a crucial role in defining data engineering processes, including system design and architecture, and may involve project management techniques when overseeing large-scale projects. Data engineers use tools like Apache Hadoop for big data processing, Spark for distributed machine learning, and SQL for database manipulation. Their expertise spans from technical aspects such as programming and data storage to managerial skills involving team leadership and project planning.\n",
      "\n",
      "In summary, a data engineer combines technical skills with organizational knowledge to ensure data quality, usability, and efficiency in supporting business operations.\n"
     ]
    }
   ],
   "source": [
    "query = 'who is data engineer?'\n",
    "result,source_docs = query_rag_pipeline(qa_chain, query)\n",
    "print(result)"
   ]
  },
  {
   "cell_type": "code",
   "execution_count": 43,
   "metadata": {},
   "outputs": [
    {
     "name": "stdout",
     "output_type": "stream",
     "text": [
      "[Document(id='aa68b3b6-ffcc-488b-9714-c1f21a9bd924', metadata={'source': 'test.txt'}, page_content='Hi there! my name is Dileep and I am a data scientist\\n\\nShivansh is a Data engineer.')]\n"
     ]
    }
   ],
   "source": [
    "print(source_docs)"
   ]
  },
  {
   "cell_type": "code",
   "execution_count": null,
   "metadata": {},
   "outputs": [],
   "source": []
  },
  {
   "cell_type": "code",
   "execution_count": null,
   "metadata": {},
   "outputs": [],
   "source": []
  },
  {
   "cell_type": "code",
   "execution_count": null,
   "metadata": {},
   "outputs": [],
   "source": []
  },
  {
   "cell_type": "code",
   "execution_count": null,
   "metadata": {},
   "outputs": [],
   "source": []
  },
  {
   "cell_type": "code",
   "execution_count": null,
   "metadata": {},
   "outputs": [],
   "source": []
  }
 ],
 "metadata": {
  "kernelspec": {
   "display_name": "gen_ai",
   "language": "python",
   "name": "python3"
  },
  "language_info": {
   "codemirror_mode": {
    "name": "ipython",
    "version": 3
   },
   "file_extension": ".py",
   "mimetype": "text/x-python",
   "name": "python",
   "nbconvert_exporter": "python",
   "pygments_lexer": "ipython3",
   "version": "3.12.9"
  }
 },
 "nbformat": 4,
 "nbformat_minor": 2
}
